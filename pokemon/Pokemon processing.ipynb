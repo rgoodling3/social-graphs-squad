{
 "cells": [
  {
   "cell_type": "code",
   "execution_count": 548,
   "metadata": {},
   "outputs": [],
   "source": [
    "# Load the necessary packages\n",
    "import json, re, networkx as nx, numpy as np, os, sys, nltk\n",
    "from tqdm import tqdm_notebook"
   ]
  },
  {
   "cell_type": "markdown",
   "metadata": {},
   "source": [
    "### Data Analysis - Cleansing of the html data"
   ]
  },
  {
   "cell_type": "code",
   "execution_count": 549,
   "metadata": {},
   "outputs": [],
   "source": [
    "# Functions to use for cleaning the pokemon data. Used in context with the regex.\n",
    "def my_replace(s):\n",
    "    if len(s[0].split(\"|\")) == 1:\n",
    "        return s[0][2:-2]\n",
    "    else:\n",
    "        return s[0].split(\"|\")[-1][:-2]\n",
    "\n",
    "def my_replace2(s):\n",
    "    if len(s[0].split(\"|\")) == 1:\n",
    "        return s[0].split(\"[[\")[1][:-2]\n",
    "    else:\n",
    "        return s[0].split(\"|\")[-1][:-2]"
   ]
  },
  {
   "cell_type": "code",
   "execution_count": 550,
   "metadata": {
    "scrolled": true
   },
   "outputs": [
    {
     "data": {
      "application/vnd.jupyter.widget-view+json": {
       "model_id": "732591c545594083b751074cff409493",
       "version_major": 2,
       "version_minor": 0
      },
      "text/plain": [
       "HBox(children=(IntProgress(value=0, max=809), HTML(value='')))"
      ]
     },
     "metadata": {},
     "output_type": "display_data"
    },
    {
     "name": "stdout",
     "output_type": "stream",
     "text": [
      "Type\n",
      "\n"
     ]
    }
   ],
   "source": [
    "poke_biology = {}\n",
    "\n",
    "# Loop through all the pokemon files\n",
    "for file in tqdm_notebook(os.listdir(\"pokemon_files_raw/\")):\n",
    "    path = 'pokemon_files_raw/' + file\n",
    "    poke_file = open(path, encoding='utf-8').read()  # Load the file \n",
    "    poke_name = file.split(']')[-1]                  # Save the name of the pokemon\n",
    "\n",
    "    # Get the biology text \n",
    "    try:\n",
    "        # this finds the content in the biology. Section after biology tends to be \"in the anime\"\n",
    "        bio_text = re.findall(\"(?<=Biology==)(.*)(?===In the anime)\", poke_file)[0] \n",
    "        \n",
    "        # this finds the links and replaces the links with the hyperlink text. Also removes newline charcs and random \\\n",
    "        bio_text = re.sub(\"{{[\\wé|\\s\\( \\)',-]+}}\", my_replace , bio_text).replace(\"\\\\n\", \" \").replace(\"\\\\\", \"\")\n",
    "        \n",
    "        # Does the same as before but with the square brackets instead\n",
    "        bio_text = re.sub(\"\\[\\[[\\w\\s|é'\\\\.#:!,-]+\\]\\]\", my_replace2, bio_text)\n",
    "        \n",
    "        # Some pokemon contains html object <ref>. These are removed\n",
    "        bio_text = re.sub(\"(<ref>)(.*)<\\/ref>\", \"\", bio_text)\n",
    "        poke_biology[poke_name] = bio_text\n",
    "    except:\n",
    "        print(poke_name)\n",
    "        continue\n",
    "    "
   ]
  },
  {
   "cell_type": "markdown",
   "metadata": {},
   "source": [
    "### Preparing the data - Tokenization"
   ]
  },
  {
   "cell_type": "code",
   "execution_count": 551,
   "metadata": {},
   "outputs": [
    {
     "data": {
      "application/vnd.jupyter.widget-view+json": {
       "model_id": "2470620dfc164ca9a805b440d862f5d5",
       "version_major": 2,
       "version_minor": 0
      },
      "text/plain": [
       "HBox(children=(IntProgress(value=0, max=808), HTML(value='')))"
      ]
     },
     "metadata": {},
     "output_type": "display_data"
    },
    {
     "name": "stdout",
     "output_type": "stream",
     "text": [
      "\n"
     ]
    }
   ],
   "source": [
    "# Tokenize the biology description and exclude stopwords\n",
    "from nltk.corpus import stopwords\n",
    "poke_biology_tokens = {}\n",
    "poke_biology_tokens_stemmed = {}\n",
    "porter = nltk.PorterStemmer()\n",
    "\n",
    "# Define the stopword set. Include punctuation and other symbols\n",
    "stop_wrds = set(stopwords.words('english'))\n",
    "stop_wrds.update(['.',',','!','?',':',';'])\n",
    "\n",
    "for pokemon in tqdm_notebook(poke_biology):\n",
    "    bio_text = poke_biology[pokemon]\n",
    "    poke_tokens = nltk.word_tokenize(bio_text)\n",
    "    poke_biology_tokens[pokemon] = [word.lower() for word in poke_tokens if word.lower() not in stop_wrds \n",
    "                   and len(re.findall('\\A[a-zA-Z]+', word)) > 0]\n",
    "    \n",
    "    # This creates a stemmed version of the biology text tokens\n",
    "    poke_biology_tokens_stemmed[pokemon] = [porter.stem(word.lower()) for word in poke_tokens  \n",
    "                                            if word.lower() not in stop_wrds and len(re.findall('\\A[a-zA-Z]+', word)) > 0]"
   ]
  },
  {
   "cell_type": "markdown",
   "metadata": {},
   "source": [
    "### Sentiment analysis of the biology description"
   ]
  },
  {
   "cell_type": "code",
   "execution_count": 552,
   "metadata": {},
   "outputs": [
    {
     "name": "stdout",
     "output_type": "stream",
     "text": [
      "0       word  happiness_rank  happiness_average  happiness_standard_deviation  \\\n",
      "0   laughter               1               8.50                        0.9313   \n",
      "1  happiness               2               8.44                        0.9723   \n",
      "2       love               3               8.42                        1.1082   \n",
      "3      happy               4               8.30                        0.9949   \n",
      "4    laughed               5               8.26                        1.1572   \n",
      "\n",
      "0 twitter_rank google_rank nyt_rank lyrics_rank  \n",
      "0         3600          --       --        1728  \n",
      "1         1853        2458       --        1230  \n",
      "2           25         317      328          23  \n",
      "3           65        1372     1313         375  \n",
      "4         3334        3542       --        2332  \n"
     ]
    }
   ],
   "source": [
    "import urllib, pandas as pd\n",
    "\n",
    "# Get the LabMT lexicon to use for the sentiment analysis\n",
    "url = 'https://journals.plos.org/plosone/article/file?id=10.1371/journal.pone.0026752.s001&type=supplementary'\n",
    "df_sentiment = pd.read_csv(url, skiprows=2, header=None, sep='\\t')\n",
    "\n",
    "# need to set the column names and remove the first row\n",
    "df_sentiment.columns = df_sentiment.iloc[0]\n",
    "df_sentiment = df_sentiment.drop(df_sentiment.index[0]).reset_index()\n",
    "df_sentiment = df_sentiment.drop(['index'], axis=1)\n",
    "df_sentiment[['happiness_rank', 'happiness_average', 'happiness_standard_deviation']] = \\\n",
    "df_sentiment[['happiness_rank', 'happiness_average', 'happiness_standard_deviation']].apply(pd.to_numeric)\n",
    "print(df_sentiment.head())\n",
    "\n",
    "# Define a function to compute the sentiment of a list of tokens\n",
    "def calculate_token_list_sentiment(tokens):\n",
    "    no_words_labeled = len(tokens)\n",
    "    happines_sum = 0\n",
    "    \n",
    "    word_count = 0\n",
    "    for word in tokens:\n",
    "        if word in list(df_sentiment['word']):\n",
    "            word_count += 1\n",
    "            happines_sum += df_sentiment[df_sentiment['word'] == word]['happiness_average'].item()    \n",
    "    if word_count == 0:\n",
    "        return -1\n",
    "    return happines_sum / word_count"
   ]
  },
  {
   "cell_type": "code",
   "execution_count": 322,
   "metadata": {},
   "outputs": [
    {
     "data": {
      "application/vnd.jupyter.widget-view+json": {
       "model_id": "bc733753810541abbbfc773d4211fb7c",
       "version_major": 2,
       "version_minor": 0
      },
      "text/plain": [
       "HBox(children=(IntProgress(value=0, max=808), HTML(value='')))"
      ]
     },
     "metadata": {},
     "output_type": "display_data"
    },
    {
     "name": "stdout",
     "output_type": "stream",
     "text": [
      "\n"
     ]
    }
   ],
   "source": [
    "poke_sentiment = {}\n",
    "poke_sentiment_stemmed = {}\n",
    "for pokemon in tqdm_notebook(poke_biology_tokens):\n",
    "    poke_sentiment[pokemon] = calculate_token_list_sentiment(poke_biology_tokens[pokemon])\n",
    "    poke_sentiment_stemmed[pokemon] = calculate_token_list_sentiment(poke_biology_tokens_stemmed[pokemon])\n",
    "    "
   ]
  },
  {
   "cell_type": "code",
   "execution_count": 553,
   "metadata": {},
   "outputs": [
    {
     "data": {
      "application/vnd.jupyter.widget-view+json": {
       "model_id": "eec3450110ab4a5cb91d5a16055552d2",
       "version_major": 2,
       "version_minor": 0
      },
      "text/plain": [
       "HBox(children=(IntProgress(value=0, max=809), HTML(value='')))"
      ]
     },
     "metadata": {},
     "output_type": "display_data"
    },
    {
     "name": "stdout",
     "output_type": "stream",
     "text": [
      "\n"
     ]
    }
   ],
   "source": [
    "# Loop through all the pokemon files\n",
    "poke_types = {}\n",
    "count = 0\n",
    "for file in tqdm_notebook(os.listdir(\"pokemon_files_raw/\")):\n",
    "    count += 1\n",
    "    path = 'pokemon_files_raw/' + file\n",
    "    poke_file = open(path, encoding='utf-8').read()  # Load the file \n",
    "    poke_name = file.split(']')[-1]                  # Save the name of the pokemon\n",
    "\n",
    "    # Find where the type is written in the html files with regex\n",
    "    try:\n",
    "        types = re.findall(\"{{PokémonPrevNext\\/Head\\|type=[\\w+|=\\s]+}}\", poke_file)[0]\n",
    "    except:\n",
    "        continue\n",
    "    types = re.findall(\"type=[\\w\\|=]+\", types)[0]\n",
    "    types = types.split('=')\n",
    "    \n",
    "    # Check if pokemon has 1 or 2 types\n",
    "    if len(types) == 2:\n",
    "        poke_type = (types[1])\n",
    "    elif len(types) == 3:\n",
    "        types = types[1:]\n",
    "        poke_type = (types[0].split(\"|\")[0], types[1])\n",
    "    poke_types[poke_name] = poke_type"
   ]
  },
  {
   "cell_type": "markdown",
   "metadata": {},
   "source": [
    "### Find the statistics of the pokemons"
   ]
  },
  {
   "cell_type": "code",
   "execution_count": 554,
   "metadata": {},
   "outputs": [
    {
     "data": {
      "application/vnd.jupyter.widget-view+json": {
       "model_id": "46b08b3141ab4d3782b101ecfd76ade1",
       "version_major": 2,
       "version_minor": 0
      },
      "text/plain": [
       "HBox(children=(IntProgress(value=0, max=809), HTML(value='')))"
      ]
     },
     "metadata": {},
     "output_type": "display_data"
    },
    {
     "name": "stdout",
     "output_type": "stream",
     "text": [
      "Type\n",
      "\n"
     ]
    }
   ],
   "source": [
    "stats = {'HP': [], 'Attack' : [], 'Defense' : [], 'SpAtk' : [], 'SpDef' : [], 'Speed' : []}\n",
    "for file in tqdm_notebook(os.listdir(\"pokemon_files_raw/\")):\n",
    "    path = 'pokemon_files_raw/' + file\n",
    "    poke_file = open(path, encoding='utf-8').read()  # Load the file \n",
    "    poke_name = file.split(']')[-1]                  # Save the name of the pokemon\n",
    "    \n",
    "    # Use regex to locate the statistics with positive lookbehinds\n",
    "    poke_stat = (re.findall(\"((?<=HP=)[\\s\\d]+)|((?<=Attack=)[\\s\\d]+)|((?<=Defense=)[\\s\\d]+)|((?<=SpAtk=)[\\s\\d]+)|((?<=SpDef=)[\\s\\d]+)|((?<=Speed=)[\\s\\d]+)\"\n",
    "           , poke_file)[:6])\n",
    "    try:\n",
    "        stats['HP'].append(int(poke_stat[0][0]))\n",
    "        stats['Attack'].append(int(poke_stat[1][1]))\n",
    "        stats['Defense'].append(int(poke_stat[2][2]))\n",
    "        stats['SpAtk'].append( int(poke_stat[3][3]))\n",
    "        stats['SpDef'].append(int(poke_stat[4][4]))\n",
    "        stats['Speed'].append(int(poke_stat[5][5]))\n",
    "    except:\n",
    "        print(poke_name)"
   ]
  },
  {
   "cell_type": "markdown",
   "metadata": {},
   "source": [
    "### Putting it all together"
   ]
  },
  {
   "cell_type": "code",
   "execution_count": 565,
   "metadata": {},
   "outputs": [
    {
     "data": {
      "text/html": [
       "<div>\n",
       "<style scoped>\n",
       "    .dataframe tbody tr th:only-of-type {\n",
       "        vertical-align: middle;\n",
       "    }\n",
       "\n",
       "    .dataframe tbody tr th {\n",
       "        vertical-align: top;\n",
       "    }\n",
       "\n",
       "    .dataframe thead th {\n",
       "        text-align: right;\n",
       "    }\n",
       "</style>\n",
       "<table border=\"1\" class=\"dataframe\">\n",
       "  <thead>\n",
       "    <tr style=\"text-align: right;\">\n",
       "      <th></th>\n",
       "      <th>Pokémon</th>\n",
       "      <th>Sentiment</th>\n",
       "      <th>Sentiment_stemmed</th>\n",
       "      <th>Type</th>\n",
       "      <th>HP</th>\n",
       "      <th>Attack</th>\n",
       "      <th>Defense</th>\n",
       "      <th>SpAtk</th>\n",
       "      <th>SpDef</th>\n",
       "      <th>Speed</th>\n",
       "      <th>Total</th>\n",
       "    </tr>\n",
       "  </thead>\n",
       "  <tbody>\n",
       "    <tr>\n",
       "      <th>0</th>\n",
       "      <td>Voltorb</td>\n",
       "      <td>5.878889</td>\n",
       "      <td>5.902800</td>\n",
       "      <td>Electric</td>\n",
       "      <td>40</td>\n",
       "      <td>30</td>\n",
       "      <td>50</td>\n",
       "      <td>55</td>\n",
       "      <td>55</td>\n",
       "      <td>100</td>\n",
       "      <td>330</td>\n",
       "    </tr>\n",
       "    <tr>\n",
       "      <th>1</th>\n",
       "      <td>Electrode</td>\n",
       "      <td>5.716471</td>\n",
       "      <td>5.585263</td>\n",
       "      <td>Electric</td>\n",
       "      <td>60</td>\n",
       "      <td>50</td>\n",
       "      <td>70</td>\n",
       "      <td>80</td>\n",
       "      <td>80</td>\n",
       "      <td>140</td>\n",
       "      <td>480</td>\n",
       "    </tr>\n",
       "    <tr>\n",
       "      <th>2</th>\n",
       "      <td>Exeggcute</td>\n",
       "      <td>5.632933</td>\n",
       "      <td>5.577097</td>\n",
       "      <td>(Grass, Psychic)</td>\n",
       "      <td>60</td>\n",
       "      <td>40</td>\n",
       "      <td>80</td>\n",
       "      <td>60</td>\n",
       "      <td>45</td>\n",
       "      <td>40</td>\n",
       "      <td>325</td>\n",
       "    </tr>\n",
       "    <tr>\n",
       "      <th>3</th>\n",
       "      <td>Exeggutor</td>\n",
       "      <td>5.623797</td>\n",
       "      <td>5.670000</td>\n",
       "      <td>(Grass, Psychic)</td>\n",
       "      <td>95</td>\n",
       "      <td>95</td>\n",
       "      <td>85</td>\n",
       "      <td>125</td>\n",
       "      <td>65</td>\n",
       "      <td>55</td>\n",
       "      <td>520</td>\n",
       "    </tr>\n",
       "    <tr>\n",
       "      <th>4</th>\n",
       "      <td>Cubone</td>\n",
       "      <td>5.261880</td>\n",
       "      <td>5.271667</td>\n",
       "      <td>Ground</td>\n",
       "      <td>50</td>\n",
       "      <td>50</td>\n",
       "      <td>95</td>\n",
       "      <td>40</td>\n",
       "      <td>50</td>\n",
       "      <td>35</td>\n",
       "      <td>320</td>\n",
       "    </tr>\n",
       "  </tbody>\n",
       "</table>\n",
       "</div>"
      ],
      "text/plain": [
       "     Pokémon  Sentiment  Sentiment_stemmed              Type  HP  Attack  \\\n",
       "0    Voltorb   5.878889           5.902800          Electric  40      30   \n",
       "1  Electrode   5.716471           5.585263          Electric  60      50   \n",
       "2  Exeggcute   5.632933           5.577097  (Grass, Psychic)  60      40   \n",
       "3  Exeggutor   5.623797           5.670000  (Grass, Psychic)  95      95   \n",
       "4     Cubone   5.261880           5.271667            Ground  50      50   \n",
       "\n",
       "   Defense  SpAtk  SpDef  Speed  Total  \n",
       "0       50     55     55    100    330  \n",
       "1       70     80     80    140    480  \n",
       "2       80     60     45     40    325  \n",
       "3       85    125     65     55    520  \n",
       "4       95     40     50     35    320  "
      ]
     },
     "execution_count": 565,
     "metadata": {},
     "output_type": "execute_result"
    }
   ],
   "source": [
    "# Create a pandas dataframe to store all the data for easier access to statistics\n",
    "data = {'Pokémon' : list(poke_biology.keys()), 'Sentiment' : list(poke_sentiment.values()), \n",
    "        'Sentiment_stemmed' : list(poke_sentiment_stemmed.values())  ,'Type': list(poke_types.values()) , \n",
    "        'HP' : stats['HP'], 'Attack' : stats['Attack'], 'Defense' : stats['Defense'], 'SpAtk' :stats['SpAtk'], \n",
    "        'SpDef' : stats['SpDef'], 'Speed' : stats['Speed']}\n",
    "\n",
    "poke_df = pd.DataFrame(data = data ,columns=['Pokémon','Sentiment','Sentiment_stemmed','Type','HP','Attack','Defense','SpAtk','SpDef','Speed'])\n",
    "\n",
    "# Define a new column called total stats\n",
    "Total_stats = poke_df.iloc[:,4:10].sum(axis=1)\n",
    "poke_df['Total'] = Total_stats\n",
    "poke_df.head()"
   ]
  },
  {
   "cell_type": "code",
   "execution_count": 567,
   "metadata": {},
   "outputs": [
    {
     "name": "stdout",
     "output_type": "stream",
     "text": [
      "[772]Type\n"
     ]
    },
    {
     "data": {
      "text/html": [
       "<div>\n",
       "<style scoped>\n",
       "    .dataframe tbody tr th:only-of-type {\n",
       "        vertical-align: middle;\n",
       "    }\n",
       "\n",
       "    .dataframe tbody tr th {\n",
       "        vertical-align: top;\n",
       "    }\n",
       "\n",
       "    .dataframe thead th {\n",
       "        text-align: right;\n",
       "    }\n",
       "</style>\n",
       "<table border=\"1\" class=\"dataframe\">\n",
       "  <thead>\n",
       "    <tr style=\"text-align: right;\">\n",
       "      <th></th>\n",
       "      <th>Pokémon</th>\n",
       "      <th>Sentiment</th>\n",
       "      <th>Sentiment_stemmed</th>\n",
       "      <th>Type</th>\n",
       "      <th>HP</th>\n",
       "      <th>Attack</th>\n",
       "      <th>Defense</th>\n",
       "      <th>SpAtk</th>\n",
       "      <th>SpDef</th>\n",
       "      <th>Speed</th>\n",
       "      <th>Total</th>\n",
       "      <th>Generation</th>\n",
       "    </tr>\n",
       "  </thead>\n",
       "  <tbody>\n",
       "    <tr>\n",
       "      <th>0</th>\n",
       "      <td>Voltorb</td>\n",
       "      <td>5.878889</td>\n",
       "      <td>5.902800</td>\n",
       "      <td>Electric</td>\n",
       "      <td>40</td>\n",
       "      <td>30</td>\n",
       "      <td>50</td>\n",
       "      <td>55</td>\n",
       "      <td>55</td>\n",
       "      <td>100</td>\n",
       "      <td>330</td>\n",
       "      <td>I</td>\n",
       "    </tr>\n",
       "    <tr>\n",
       "      <th>1</th>\n",
       "      <td>Electrode</td>\n",
       "      <td>5.716471</td>\n",
       "      <td>5.585263</td>\n",
       "      <td>Electric</td>\n",
       "      <td>60</td>\n",
       "      <td>50</td>\n",
       "      <td>70</td>\n",
       "      <td>80</td>\n",
       "      <td>80</td>\n",
       "      <td>140</td>\n",
       "      <td>480</td>\n",
       "      <td>I</td>\n",
       "    </tr>\n",
       "    <tr>\n",
       "      <th>2</th>\n",
       "      <td>Exeggcute</td>\n",
       "      <td>5.632933</td>\n",
       "      <td>5.577097</td>\n",
       "      <td>(Grass, Psychic)</td>\n",
       "      <td>60</td>\n",
       "      <td>40</td>\n",
       "      <td>80</td>\n",
       "      <td>60</td>\n",
       "      <td>45</td>\n",
       "      <td>40</td>\n",
       "      <td>325</td>\n",
       "      <td>I</td>\n",
       "    </tr>\n",
       "    <tr>\n",
       "      <th>3</th>\n",
       "      <td>Exeggutor</td>\n",
       "      <td>5.623797</td>\n",
       "      <td>5.670000</td>\n",
       "      <td>(Grass, Psychic)</td>\n",
       "      <td>95</td>\n",
       "      <td>95</td>\n",
       "      <td>85</td>\n",
       "      <td>125</td>\n",
       "      <td>65</td>\n",
       "      <td>55</td>\n",
       "      <td>520</td>\n",
       "      <td>I</td>\n",
       "    </tr>\n",
       "    <tr>\n",
       "      <th>4</th>\n",
       "      <td>Cubone</td>\n",
       "      <td>5.261880</td>\n",
       "      <td>5.271667</td>\n",
       "      <td>Ground</td>\n",
       "      <td>50</td>\n",
       "      <td>50</td>\n",
       "      <td>95</td>\n",
       "      <td>40</td>\n",
       "      <td>50</td>\n",
       "      <td>35</td>\n",
       "      <td>320</td>\n",
       "      <td>I</td>\n",
       "    </tr>\n",
       "  </tbody>\n",
       "</table>\n",
       "</div>"
      ],
      "text/plain": [
       "     Pokémon  Sentiment  Sentiment_stemmed              Type  HP  Attack  \\\n",
       "0    Voltorb   5.878889           5.902800          Electric  40      30   \n",
       "1  Electrode   5.716471           5.585263          Electric  60      50   \n",
       "2  Exeggcute   5.632933           5.577097  (Grass, Psychic)  60      40   \n",
       "3  Exeggutor   5.623797           5.670000  (Grass, Psychic)  95      95   \n",
       "4     Cubone   5.261880           5.271667            Ground  50      50   \n",
       "\n",
       "   Defense  SpAtk  SpDef  Speed  Total Generation  \n",
       "0       50     55     55    100    330          I  \n",
       "1       70     80     80    140    480          I  \n",
       "2       80     60     45     40    325          I  \n",
       "3       85    125     65     55    520          I  \n",
       "4       95     40     50     35    320          I  "
      ]
     },
     "execution_count": 567,
     "metadata": {},
     "output_type": "execute_result"
    }
   ],
   "source": [
    "gen_count = []\n",
    "for file in os.listdir('pokemon_files_raw/'):\n",
    "    poke_file = open('pokemon_files_raw/' + file, encoding='utf-8').read()\n",
    "    try:\n",
    "        gen = gen_count.append(re.findall('(?<=introduced in \\[\\[Generation )\\w+', poke_file)[0])\n",
    "        \n",
    "    except:\n",
    "        if poke_file == '[772]Type':\n",
    "            gen_count.append('VII')\n",
    "        print(file)\n",
    "\n",
    "poke_df['Generation'] = gen_count\n",
    "poke_df.head()"
   ]
  },
  {
   "cell_type": "code",
   "execution_count": 568,
   "metadata": {},
   "outputs": [
    {
     "data": {
      "text/html": [
       "<div>\n",
       "<style scoped>\n",
       "    .dataframe tbody tr th:only-of-type {\n",
       "        vertical-align: middle;\n",
       "    }\n",
       "\n",
       "    .dataframe tbody tr th {\n",
       "        vertical-align: top;\n",
       "    }\n",
       "\n",
       "    .dataframe thead th {\n",
       "        text-align: right;\n",
       "    }\n",
       "</style>\n",
       "<table border=\"1\" class=\"dataframe\">\n",
       "  <thead>\n",
       "    <tr style=\"text-align: right;\">\n",
       "      <th></th>\n",
       "      <th>Pokémon</th>\n",
       "      <th>Sentiment</th>\n",
       "      <th>Sentiment_stemmed</th>\n",
       "      <th>Type</th>\n",
       "      <th>HP</th>\n",
       "      <th>Attack</th>\n",
       "      <th>Defense</th>\n",
       "      <th>SpAtk</th>\n",
       "      <th>SpDef</th>\n",
       "      <th>Speed</th>\n",
       "      <th>Total</th>\n",
       "      <th>Generation</th>\n",
       "      <th>Legendary</th>\n",
       "    </tr>\n",
       "  </thead>\n",
       "  <tbody>\n",
       "    <tr>\n",
       "      <th>0</th>\n",
       "      <td>Voltorb</td>\n",
       "      <td>5.878889</td>\n",
       "      <td>5.902800</td>\n",
       "      <td>Electric</td>\n",
       "      <td>40</td>\n",
       "      <td>30</td>\n",
       "      <td>50</td>\n",
       "      <td>55</td>\n",
       "      <td>55</td>\n",
       "      <td>100</td>\n",
       "      <td>330</td>\n",
       "      <td>I</td>\n",
       "      <td>None</td>\n",
       "    </tr>\n",
       "    <tr>\n",
       "      <th>1</th>\n",
       "      <td>Electrode</td>\n",
       "      <td>5.716471</td>\n",
       "      <td>5.585263</td>\n",
       "      <td>Electric</td>\n",
       "      <td>60</td>\n",
       "      <td>50</td>\n",
       "      <td>70</td>\n",
       "      <td>80</td>\n",
       "      <td>80</td>\n",
       "      <td>140</td>\n",
       "      <td>480</td>\n",
       "      <td>I</td>\n",
       "      <td>None</td>\n",
       "    </tr>\n",
       "    <tr>\n",
       "      <th>2</th>\n",
       "      <td>Exeggcute</td>\n",
       "      <td>5.632933</td>\n",
       "      <td>5.577097</td>\n",
       "      <td>(Grass, Psychic)</td>\n",
       "      <td>60</td>\n",
       "      <td>40</td>\n",
       "      <td>80</td>\n",
       "      <td>60</td>\n",
       "      <td>45</td>\n",
       "      <td>40</td>\n",
       "      <td>325</td>\n",
       "      <td>I</td>\n",
       "      <td>None</td>\n",
       "    </tr>\n",
       "    <tr>\n",
       "      <th>3</th>\n",
       "      <td>Exeggutor</td>\n",
       "      <td>5.623797</td>\n",
       "      <td>5.670000</td>\n",
       "      <td>(Grass, Psychic)</td>\n",
       "      <td>95</td>\n",
       "      <td>95</td>\n",
       "      <td>85</td>\n",
       "      <td>125</td>\n",
       "      <td>65</td>\n",
       "      <td>55</td>\n",
       "      <td>520</td>\n",
       "      <td>I</td>\n",
       "      <td>None</td>\n",
       "    </tr>\n",
       "    <tr>\n",
       "      <th>4</th>\n",
       "      <td>Cubone</td>\n",
       "      <td>5.261880</td>\n",
       "      <td>5.271667</td>\n",
       "      <td>Ground</td>\n",
       "      <td>50</td>\n",
       "      <td>50</td>\n",
       "      <td>95</td>\n",
       "      <td>40</td>\n",
       "      <td>50</td>\n",
       "      <td>35</td>\n",
       "      <td>320</td>\n",
       "      <td>I</td>\n",
       "      <td>None</td>\n",
       "    </tr>\n",
       "  </tbody>\n",
       "</table>\n",
       "</div>"
      ],
      "text/plain": [
       "     Pokémon  Sentiment  Sentiment_stemmed              Type  HP  Attack  \\\n",
       "0    Voltorb   5.878889           5.902800          Electric  40      30   \n",
       "1  Electrode   5.716471           5.585263          Electric  60      50   \n",
       "2  Exeggcute   5.632933           5.577097  (Grass, Psychic)  60      40   \n",
       "3  Exeggutor   5.623797           5.670000  (Grass, Psychic)  95      95   \n",
       "4     Cubone   5.261880           5.271667            Ground  50      50   \n",
       "\n",
       "   Defense  SpAtk  SpDef  Speed  Total Generation Legendary  \n",
       "0       50     55     55    100    330          I      None  \n",
       "1       70     80     80    140    480          I      None  \n",
       "2       80     60     45     40    325          I      None  \n",
       "3       85    125     65     55    520          I      None  \n",
       "4       95     40     50     35    320          I      None  "
      ]
     },
     "execution_count": 568,
     "metadata": {},
     "output_type": "execute_result"
    }
   ],
   "source": [
    "# Find all the legendary pokemons\n",
    "type_count = []\n",
    "for file in os.listdir('pokemon_files_raw/'):\n",
    "    poke_file = open('pokemon_files_raw/' + file, encoding='utf-8').read()\n",
    "    try:\n",
    "        # Use a regex to locate whether a pokemon is a mythical or legendary\n",
    "        poke_type = (re.findall('(Mythical |Legendary )(?=Pokémon\\]\\] introduced)', poke_file))[0]\n",
    "        if poke_type == 'Legendary':                \n",
    "            type_count.append('Legendary')\n",
    "        elif poke_type == 'Mythical':\n",
    "            type_count.append('Mythical')\n",
    "        else:\n",
    "            type_count.append('None')\n",
    "    except:\n",
    "        if file == '[772]Type': # This file is corrupt\n",
    "            continue\n",
    "        type_count.append('None')\n",
    "\n",
    "poke_df['Legendary'] = type_count\n",
    "poke_df.head()"
   ]
  },
  {
   "cell_type": "code",
   "execution_count": 569,
   "metadata": {},
   "outputs": [],
   "source": [
    "poke_df.to_csv('pokemon_data')"
   ]
  },
  {
   "cell_type": "code",
   "execution_count": null,
   "metadata": {},
   "outputs": [],
   "source": []
  }
 ],
 "metadata": {
  "kernelspec": {
   "display_name": "Python 3",
   "language": "python",
   "name": "python3"
  },
  "language_info": {
   "codemirror_mode": {
    "name": "ipython",
    "version": 3
   },
   "file_extension": ".py",
   "mimetype": "text/x-python",
   "name": "python",
   "nbconvert_exporter": "python",
   "pygments_lexer": "ipython3",
   "version": "3.7.3"
  }
 },
 "nbformat": 4,
 "nbformat_minor": 2
}
