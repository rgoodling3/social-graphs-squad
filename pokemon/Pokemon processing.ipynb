{
 "cells": [
  {
   "cell_type": "code",
   "execution_count": 276,
   "metadata": {},
   "outputs": [],
   "source": [
    "# Load the necessary packages\n",
    "import json, re, networkx as nx, numpy as np, os, sys, nltk\n",
    "from tqdm import tqdm_notebook"
   ]
  },
  {
   "cell_type": "markdown",
   "metadata": {},
   "source": [
    "### Data Analysis - Cleansing of the html data"
   ]
  },
  {
   "cell_type": "code",
   "execution_count": 267,
   "metadata": {},
   "outputs": [],
   "source": [
    "# Functions to use for cleaning the pokemon data. Used in context with the regex.\n",
    "def my_replace(s):\n",
    "    if len(s[0].split(\"|\")) == 1:\n",
    "        return s[0][2:-2]\n",
    "    else:\n",
    "        return s[0].split(\"|\")[-1][:-2]\n",
    "\n",
    "def my_replace2(s):\n",
    "    if len(s[0].split(\"|\")) == 1:\n",
    "        return s[0].split(\"[[\")[1][:-2]\n",
    "    else:\n",
    "        return s[0].split(\"|\")[-1][:-2]"
   ]
  },
  {
   "cell_type": "code",
   "execution_count": 271,
   "metadata": {
    "scrolled": true
   },
   "outputs": [
    {
     "data": {
      "application/vnd.jupyter.widget-view+json": {
       "model_id": "dd56c4cf089c4ed0ae5fab41f91ed411",
       "version_major": 2,
       "version_minor": 0
      },
      "text/plain": [
       "HBox(children=(IntProgress(value=0, max=809), HTML(value='')))"
      ]
     },
     "metadata": {},
     "output_type": "display_data"
    },
    {
     "name": "stdout",
     "output_type": "stream",
     "text": [
      "Type\n",
      "\n"
     ]
    }
   ],
   "source": [
    "poke_biology = {}\n",
    "\n",
    "# Loop through all the pokemon files\n",
    "for file in tqdm_notebook(os.listdir(\"pokemon_files_raw/\")):\n",
    "    path = 'pokemon_files_raw/' + file\n",
    "    poke_file = open(path, encoding='utf-8').read()  # Load the file \n",
    "    poke_name = file.split(']')[-1]                  # Save the name of the pokemon\n",
    "\n",
    "    # Get the biology text \n",
    "    try:\n",
    "        # this finds the content in the biology. Section after biology tends to be \"in the anime\"\n",
    "        bio_text = re.findall(\"(?<=Biology==)(.*)(?===In the anime)\", poke_file)[0] \n",
    "        \n",
    "        # this finds the links and replaces the links with the hyperlink text. Also removes newline charcs and random \\\n",
    "        bio_text = re.sub(\"{{[\\wé|\\s\\( \\)',-]+}}\", my_replace , bio_text).replace(\"\\\\n\", \" \").replace(\"\\\\\", \"\")\n",
    "        \n",
    "        # Does the same as before but with the square brackets instead\n",
    "        bio_text = re.sub(\"\\[\\[[\\w\\s|é'\\\\.#:!,-]+\\]\\]\", my_replace2, bio_text)\n",
    "        \n",
    "        # Some pokemon contains html object <ref>. These are removed\n",
    "        bio_text = re.sub(\"(<ref>)(.*)<\\/ref>\", \"\", bio_text)\n",
    "        poke_biology[poke_name] = bio_text\n",
    "    except:\n",
    "        print(poke_name)\n",
    "        continue\n",
    "    "
   ]
  },
  {
   "cell_type": "markdown",
   "metadata": {},
   "source": [
    "### Preparing the data - Tokenization"
   ]
  },
  {
   "cell_type": "code",
   "execution_count": 300,
   "metadata": {},
   "outputs": [
    {
     "data": {
      "application/vnd.jupyter.widget-view+json": {
       "model_id": "879c9e0175f442768e898334bea03352",
       "version_major": 2,
       "version_minor": 0
      },
      "text/plain": [
       "HBox(children=(IntProgress(value=0, max=808), HTML(value='')))"
      ]
     },
     "metadata": {},
     "output_type": "display_data"
    },
    {
     "name": "stdout",
     "output_type": "stream",
     "text": [
      "\n"
     ]
    }
   ],
   "source": [
    "# Tokenize the biology description and exclude stopwords\n",
    "from nltk.corpus import stopwords\n",
    "poke_biology_tokens = {}\n",
    "poke_biology_tokens_stemmed = {}\n",
    "porter = nltk.PorterStemmer()\n",
    "\n",
    "# Define the stopword set. Include punctuation and other symbols\n",
    "stop_wrds = set(stopwords.words('english'))\n",
    "stop_wrds.update(['.',',','!','?',':',';'])\n",
    "\n",
    "for pokemon in tqdm_notebook(poke_biology):\n",
    "    bio_text = poke_biology[pokemon]\n",
    "    poke_tokens = nltk.word_tokenize(bio_text)\n",
    "    poke_biology_tokens[pokemon] = [word.lower() for word in poke_tokens if word.lower() not in stop_wrds \n",
    "                   and len(re.findall('\\A[a-zA-Z]+', word)) > 0]\n",
    "    \n",
    "    # This creates a stemmed version of the biology text tokens\n",
    "    poke_biology_tokens_stemmed[pokemon] = [porter.stem(word.lower()) for word in poke_tokens  \n",
    "                                            if word.lower() not in stop_wrds and len(re.findall('\\A[a-zA-Z]+', word)) > 0]"
   ]
  },
  {
   "cell_type": "markdown",
   "metadata": {},
   "source": [
    "### Sentiment analysis of the biology description"
   ]
  },
  {
   "cell_type": "code",
   "execution_count": 308,
   "metadata": {},
   "outputs": [],
   "source": [
    "import urllib, pandas as pd\n",
    "\n",
    "# Get the LabMT lexicon to use for the sentiment analysis\n",
    "url = 'https://journals.plos.org/plosone/article/file?id=10.1371/journal.pone.0026752.s001&type=supplementary'\n",
    "df_sentiment = pd.read_csv(url, skiprows=2, header=None, sep='\\t')\n",
    "\n",
    "# need to set the column names and remove the first row\n",
    "df_sentiment.columns = df_sentiment.iloc[0]\n",
    "df_sentiment = df_sentiment.drop(df_sentiment.index[0]).reset_index()\n",
    "df_sentiment = df_sentiment.drop(['index'], axis=1)\n",
    "df_sentiment[['happiness_rank', 'happiness_average', 'happiness_standard_deviation']] = \\\n",
    "df_sentiment[['happiness_rank', 'happiness_average', 'happiness_standard_deviation']].apply(pd.to_numeric)\n",
    "print(df_sentiment.head())\n",
    "\n",
    "# Define a function to compute the sentiment of a list of tokens\n",
    "def calculate_token_list_sentiment(tokens):\n",
    "    no_words_labeled = len(tokens)\n",
    "    happines_sum = 0\n",
    "    \n",
    "    word_count = 0\n",
    "    for word in tokens:\n",
    "        if word in list(df_sentiment['word']):\n",
    "            word_count += 1\n",
    "            happines_sum += df_sentiment[df_sentiment['word'] == word]['happiness_average'].item()    \n",
    "    if word_count == 0:\n",
    "        return -1\n",
    "    return happines_sum / word_count"
   ]
  },
  {
   "cell_type": "code",
   "execution_count": 322,
   "metadata": {},
   "outputs": [
    {
     "data": {
      "application/vnd.jupyter.widget-view+json": {
       "model_id": "bc733753810541abbbfc773d4211fb7c",
       "version_major": 2,
       "version_minor": 0
      },
      "text/plain": [
       "HBox(children=(IntProgress(value=0, max=808), HTML(value='')))"
      ]
     },
     "metadata": {},
     "output_type": "display_data"
    },
    {
     "name": "stdout",
     "output_type": "stream",
     "text": [
      "\n"
     ]
    }
   ],
   "source": [
    "poke_sentiment = {}\n",
    "poke_sentiment_stemmed = {}\n",
    "for pokemon in tqdm_notebook(poke_biology_tokens):\n",
    "    poke_sentiment[pokemon] = calculate_token_list_sentiment(poke_biology_tokens[pokemon])\n",
    "    poke_sentiment_stemmed[pokemon] = calculate_token_list_sentiment(poke_biology_tokens_stemmed[pokemon])\n",
    "    "
   ]
  },
  {
   "cell_type": "code",
   "execution_count": 372,
   "metadata": {},
   "outputs": [
    {
     "data": {
      "application/vnd.jupyter.widget-view+json": {
       "model_id": "25c7e28496ff42d9be325635bf722150",
       "version_major": 2,
       "version_minor": 0
      },
      "text/plain": [
       "HBox(children=(IntProgress(value=0, max=809), HTML(value='')))"
      ]
     },
     "metadata": {},
     "output_type": "display_data"
    },
    {
     "name": "stdout",
     "output_type": "stream",
     "text": [
      "\n"
     ]
    }
   ],
   "source": [
    "# Loop through all the pokemon files\n",
    "poke_types = {}\n",
    "count = 0\n",
    "for file in tqdm_notebook(os.listdir(\"pokemon_files_raw/\")):\n",
    "    count += 1\n",
    "    path = 'pokemon_files_raw/' + file\n",
    "    poke_file = open(path, encoding='utf-8').read()  # Load the file \n",
    "    poke_name = file.split(']')[-1]                  # Save the name of the pokemon\n",
    "\n",
    "    # Find where the type is written in the html files with regex\n",
    "    try:\n",
    "        types = re.findall(\"{{PokémonPrevNext\\/Head\\|type=[\\w+|=\\s]+}}\", poke_file)[0]\n",
    "    except:\n",
    "        continue\n",
    "    types = re.findall(\"type=[\\w\\|=]+\", types)[0]\n",
    "    types = types.split('=')\n",
    "    \n",
    "    # Check if pokemon has 1 or 2 types\n",
    "    if len(types) == 2:\n",
    "        poke_type = (types[1])\n",
    "    elif len(types) == 3:\n",
    "        types = types[1:]\n",
    "        poke_type = (types[0].split(\"|\")[0], types[1])\n",
    "    poke_types[poke_name] = poke_type"
   ]
  },
  {
   "cell_type": "markdown",
   "metadata": {},
   "source": [
    "### Find the statistics of the pokemons"
   ]
  },
  {
   "cell_type": "code",
   "execution_count": 430,
   "metadata": {},
   "outputs": [
    {
     "data": {
      "application/vnd.jupyter.widget-view+json": {
       "model_id": "e628ca230c75448a9101bb54b256ae17",
       "version_major": 2,
       "version_minor": 0
      },
      "text/plain": [
       "HBox(children=(IntProgress(value=0, max=809), HTML(value='')))"
      ]
     },
     "metadata": {},
     "output_type": "display_data"
    },
    {
     "name": "stdout",
     "output_type": "stream",
     "text": [
      "Type\n",
      "\n"
     ]
    }
   ],
   "source": [
    "stats = {'HP': [], 'Attack' : [], 'Defense' : [], 'SpAtk' : [], 'SpDef' : [], 'Speed' : []}\n",
    "for file in tqdm_notebook(os.listdir(\"pokemon_files_raw/\")):\n",
    "    path = 'pokemon_files_raw/' + file\n",
    "    poke_file = open(path, encoding='utf-8').read()  # Load the file \n",
    "    poke_name = file.split(']')[-1]                  # Save the name of the pokemon\n",
    "    \n",
    "    # Use regex to locate the statistics with positive lookbehinds\n",
    "    poke_stat = (re.findall(\"((?<=HP=)[\\s\\d]+)|((?<=Attack=)[\\s\\d]+)|((?<=Defense=)[\\s\\d]+)|((?<=SpAtk=)[\\s\\d]+)|((?<=SpDef=)[\\s\\d]+)|((?<=Speed=)[\\s\\d]+)\"\n",
    "           , poke_file)[:6])\n",
    "    try:\n",
    "        stats['HP'].append(int(poke_stat[0][0]))\n",
    "        stats['Attack'].append(int(poke_stat[1][1]))\n",
    "        stats['Defense'].append(int(poke_stat[2][2]))\n",
    "        stats['SpAtk'].append( int(poke_stat[3][3]))\n",
    "        stats['SpDef'].append(int(poke_stat[4][4]))\n",
    "        stats['Speed'].append(int(poke_stat[5][5]))\n",
    "    except:\n",
    "        print(poke_name)"
   ]
  },
  {
   "cell_type": "markdown",
   "metadata": {},
   "source": [
    "### Putting it all together"
   ]
  },
  {
   "cell_type": "code",
   "execution_count": 437,
   "metadata": {},
   "outputs": [],
   "source": [
    "# Create a pandas dataframe to store all the data for easier access to statistics\n",
    "data = {'Pokémon' : list(poke_biology.keys()), 'Sentiment' : list(poke_sentiment.values()), \n",
    "        'Sentiment_stemmed' : list(poke_sentiment_stemmed.values())  ,'Type': list(poke_types.values()) , \n",
    "        'HP' : stats['HP'], 'Attack' : stats['Attack'], 'Defense' : stats['Defense'], 'SpAtk' :stats['SpAtk'], \n",
    "        'SpDef' : stats['SpDef'], 'Speed' : stats['Speed']}\n",
    "\n",
    "poke_df = pd.DataFrame(data = data ,columns=['Pokémon','Sentiment','Sentiment_stemmed','Type','HP','Attack','Defense','SpAtk','SpDef','Speed'])"
   ]
  },
  {
   "cell_type": "code",
   "execution_count": 439,
   "metadata": {},
   "outputs": [],
   "source": [
    "poke_df.to_csv('pokemon_data')"
   ]
  },
  {
   "cell_type": "code",
   "execution_count": 438,
   "metadata": {},
   "outputs": [
    {
     "data": {
      "text/plain": [
       "['.ipynb_checkpoints',\n",
       " 'download_data.ipynb',\n",
       " 'Pokemon processing.ipynb',\n",
       " 'pokemon_files_raw']"
      ]
     },
     "execution_count": 438,
     "metadata": {},
     "output_type": "execute_result"
    }
   ],
   "source": [
    "os.listdir()"
   ]
  },
  {
   "cell_type": "code",
   "execution_count": null,
   "metadata": {},
   "outputs": [],
   "source": []
  }
 ],
 "metadata": {
  "kernelspec": {
   "display_name": "Python 3",
   "language": "python",
   "name": "python3"
  },
  "language_info": {
   "codemirror_mode": {
    "name": "ipython",
    "version": 3
   },
   "file_extension": ".py",
   "mimetype": "text/x-python",
   "name": "python",
   "nbconvert_exporter": "python",
   "pygments_lexer": "ipython3",
   "version": "3.7.3"
  }
 },
 "nbformat": 4,
 "nbformat_minor": 2
}
