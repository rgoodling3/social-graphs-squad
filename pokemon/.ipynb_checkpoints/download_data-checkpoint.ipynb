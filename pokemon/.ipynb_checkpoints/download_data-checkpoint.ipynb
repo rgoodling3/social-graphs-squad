{
 "cells": [
  {
   "cell_type": "code",
   "execution_count": 1,
   "metadata": {},
   "outputs": [],
   "source": [
    "import urllib\n",
    "import json\n",
    "import unicodedata\n",
    "import requests\n",
    "import bs4\n",
    "import os\n",
    "import io\n",
    "import time\n",
    "from IPython.display import clear_output"
   ]
  },
  {
   "cell_type": "code",
   "execution_count": 2,
   "metadata": {},
   "outputs": [],
   "source": [
    "def get_all_pokemon_base_entries():\n",
    "    base_page_url = \"https://bulbapedia.bulbagarden.net/wiki/List_of_Pokémon_by_National_Pokédex_number\"\n",
    "    base_page_content = requests.get(base_page_url).content\n",
    "    root = bs4.BeautifulSoup(base_page_content, \"html5lib\").find(id=\"mw-content-text\")\n",
    "\n",
    "    pokemon_base_entries = {}\n",
    "    generation_table_tags = root.find_all(\"table\")[1:8]\n",
    "\n",
    "    for gen_table_tag in generation_table_tags:\n",
    "        pokemon_tr_tags = gen_table_tag.find(\"tbody\").find_all(\"tr\")[1:]\n",
    "\n",
    "        for tr_tag in pokemon_tr_tags:\n",
    "            pokemon_name, number, wikilink = get_pokemon_name_and_wikilink(tr_tag)\n",
    "            pokemon_base_entries[pokemon_name] = {\"wikilink\": wikilink, \"pokedex_number\": number}\n",
    "\n",
    "    return pokemon_base_entries\n",
    "\n",
    "\n",
    "def get_pokemon_name_and_wikilink(tr_tag):\n",
    "    cols = tr_tag.find_all(\"td\", recursive=False)\n",
    "\n",
    "    number = int(cols[1].string.replace(\" \", \"\")[1:-1])\n",
    "\n",
    "    details_link_tag = cols[3].find_all(\"a\", recursive=False)[0]\n",
    "    details_url = \"https://bulbapedia.bulbagarden.net\" + details_link_tag[\"href\"]\n",
    "\n",
    "    base_name = details_link_tag.string\n",
    "    \n",
    "    return base_name, number, details_url"
   ]
  },
  {
   "cell_type": "code",
   "execution_count": 3,
   "metadata": {},
   "outputs": [],
   "source": [
    "pokemon_list = get_all_pokemon_base_entries()"
   ]
  },
  {
   "cell_type": "code",
   "execution_count": 4,
   "metadata": {},
   "outputs": [],
   "source": [
    "baseurl = \"http://bulbapedia.bulbagarden.net/w/api.php?\"\n",
    "action = \"action=query\"\n",
    "content = \"prop=revisions\"\n",
    "rvprop =\"rvprop=content\"\n",
    "dataformat = \"format=json\"\n",
    "\n",
    "dir_path = \"./pokemon_files_raw\"\n",
    "def create_pokemon_file():\n",
    "    counter = 0\n",
    "    for name, info in pokemon_list.items():\n",
    "\n",
    "        title = \"titles=\" + name + \"_(Pok%C3%A9mon)\"\n",
    "        if not os.path.exists(dir_path):\n",
    "            os.makedirs(dir_path)\n",
    "            print('created', dir_path)\n",
    "\n",
    "        pokedex_number = info[\"pokedex_number\"]\n",
    "        file_path = f\"{dir_path}/[{pokedex_number}]{name}\"\n",
    "        if os.path.isfile(file_path):\n",
    "            continue\n",
    "        query = \"{}{}&{}&{}&{}&{}\".format(baseurl, action, title, content, rvprop, dataformat)\n",
    "        print(query)\n",
    "        pokemon_text = requests.get(query).content.decode(\"utf-8\")\n",
    "        pokemon_text = json.loads(pokemon_text)\n",
    "        pokemon_text = pokemon_text[\"query\"][\"pages\"]\n",
    "        \n",
    "        pokemon_page_number = next(iter(pokemon_text))\n",
    "        pokemon_text = pokemon_text[pokemon_page_number][\"revisions\"][0]\n",
    "\n",
    "        with io.open(file_path, 'w', encoding='utf-8') as f:\n",
    "            f.write(u''+ str(pokemon_text))\n",
    "            f.close()\n",
    "        counter +=1\n",
    "        clear_output(wait=True)\n",
    "        print(f\"{int(pokedex_number)} pokemon files created. done. {len(pokemon_list.keys()) - int(pokedex_number)} left\")\n",
    "        \n"
   ]
  },
  {
   "cell_type": "code",
   "execution_count": 5,
   "metadata": {},
   "outputs": [],
   "source": [
    "create_pokemon_file()"
   ]
  },
  {
   "cell_type": "code",
   "execution_count": 6,
   "metadata": {},
   "outputs": [],
   "source": [
    "def get_all_episodes_entries():\n",
    "    base_page_url = \"https://bulbapedia.bulbagarden.net/wiki/List_of_anime_episodes\"\n",
    "    base_page_content = requests.get(base_page_url).content\n",
    "    \n",
    "    root = bs4.BeautifulSoup(base_page_content, \"html5lib\").find(id=\"mw-content-text\")    \n",
    "    episode_entries = {}\n",
    "    all_seasons_table_tags = root.find_all(\"table\")[:-5]\n",
    "    \n",
    "    season_names = [\"Indigo League arc\", \"Orange League arc\", \"Johto League arc\", \"Hoenn League arc\", \n",
    "                    \"Kanto Battle Frontier arc\", \"Diamond & Pearl\", \"Best Wishes!\", \"Best Wishes! Season 2\",\n",
    "                    \"Best Wishes! Season 2: Episode N\", \"\tBest Wishes! Season 2: Decolora Adventure!\",\n",
    "                    \"XY\", \"XY&Z\", \"Sun & Moon\"]\n",
    "\n",
    "    for i in range(len(all_seasons_table_tags)):\n",
    "        season_tr_tags = all_seasons_table_tags[i].find(\"tbody\").find_all(\"tr\")[1:]\n",
    "        \n",
    "        for tr_tag in season_tr_tags:\n",
    "            season = season_names[i]\n",
    "            \n",
    "            cols = tr_tag.find_all(\"td\", recursive=False)\n",
    "            # column 0 contains the info about the link and the episode number needed for query\n",
    "            try:\n",
    "                tag_info = cols[0].find_all(\"a\", recursive=False)[0]\n",
    "                episode_tag = tag_info[\"title\"]            \n",
    "            except:\n",
    "                try:\n",
    "                    tag_info = cols[1].find_all(\"a\", recursive=False)[0]\n",
    "                    episode_tag = tag_info[\"title\"]            \n",
    "                except:\n",
    "                    continue\n",
    "\n",
    "            # column 2 contains the english title\n",
    "            try:\n",
    "                english_title = cols[2].find_all(\"i\", recursive=False)[0].text\n",
    "            except:\n",
    "                english_title = \"No english title\"\n",
    "                        \n",
    "            episode_entries[episode_tag] = {\"english_title\": english_title, \"season\": season}        \n",
    "        \n",
    "        print(f\"All episodes from season: {season_names[i]} fetched.\")\n",
    "    return episode_entries\n"
   ]
  },
  {
   "cell_type": "code",
   "execution_count": 7,
   "metadata": {
    "scrolled": true
   },
   "outputs": [
    {
     "name": "stdout",
     "output_type": "stream",
     "text": [
      "All episodes from season: Indigo League arc fetched.\n",
      "All episodes from season: Orange League arc fetched.\n",
      "All episodes from season: Johto League arc fetched.\n",
      "All episodes from season: Hoenn League arc fetched.\n",
      "All episodes from season: Kanto Battle Frontier arc fetched.\n",
      "All episodes from season: Diamond & Pearl fetched.\n",
      "All episodes from season: Best Wishes! fetched.\n",
      "All episodes from season: Best Wishes! Season 2 fetched.\n",
      "All episodes from season: Best Wishes! Season 2: Episode N fetched.\n",
      "All episodes from season: \tBest Wishes! Season 2: Decolora Adventure! fetched.\n",
      "All episodes from season: XY fetched.\n",
      "All episodes from season: XY&Z fetched.\n",
      "All episodes from season: Sun & Moon fetched.\n"
     ]
    }
   ],
   "source": [
    "episodes_list = get_all_episodes_entries()"
   ]
  },
  {
   "cell_type": "code",
   "execution_count": 10,
   "metadata": {},
   "outputs": [],
   "source": [
    "baseurl = \"http://bulbapedia.bulbagarden.net/w/api.php?\"\n",
    "action = \"action=query\"\n",
    "content = \"prop=revisions\"\n",
    "rvprop =\"rvprop=content\"\n",
    "dataformat = \"format=json\"\n",
    "\n",
    "dir_path = \"./episodes_files_raw\"\n",
    "def create_episode_files():\n",
    "    counter = 0\n",
    "    skipped_counter = 0\n",
    "    for tag, info in episodes_list.items():\n",
    "        counter +=1\n",
    "        title = \"titles=\" + tag\n",
    "        if not os.path.exists(dir_path):\n",
    "            os.makedirs(dir_path)\n",
    "            print('created', dir_path)\n",
    "\n",
    "        file_path = f\"{dir_path}/[{counter}]{tag}\"\n",
    "        if os.path.isfile(file_path):\n",
    "            continue\n",
    "        query = \"{}{}&{}&{}&{}&{}\".format(baseurl, action, title, content, rvprop, dataformat)\n",
    "        print(query)\n",
    "        try:\n",
    "            episode_text = requests.get(query).content.decode(\"utf-8\")\n",
    "            episode_text = json.loads(episode_text)\n",
    "            episode_text = episode_text[\"query\"][\"pages\"]\n",
    "\n",
    "            episode_page_number = next(iter(episode_text))\n",
    "            episode_text = episode_text[episode_page_number][\"revisions\"][0]\n",
    "            \n",
    "            with io.open(file_path, 'w', encoding='utf-8') as f:\n",
    "                f.write(u''+ str(episode_text))\n",
    "                f.close()\n",
    "            clear_output(wait=True)\n",
    "            print(f\"{counter} episode file created. {len(episodes_list.keys()) - counter} left. Skipped {skipped_counter} unaired episodes.\")\n",
    "        except:\n",
    "            skipped_counter += 1\n",
    "            continue\n"
   ]
  },
  {
   "cell_type": "code",
   "execution_count": 11,
   "metadata": {},
   "outputs": [
    {
     "name": "stdout",
     "output_type": "stream",
     "text": [
      "1100 episode file created. 0 left. Skipped 3 unaired episodes.\n"
     ]
    }
   ],
   "source": [
    "create_episode_files()"
   ]
  },
  {
   "cell_type": "code",
   "execution_count": null,
   "metadata": {},
   "outputs": [],
   "source": []
  }
 ],
 "metadata": {
  "kernelspec": {
   "display_name": "Python 3",
   "language": "python",
   "name": "python3"
  },
  "language_info": {
   "codemirror_mode": {
    "name": "ipython",
    "version": 3
   },
   "file_extension": ".py",
   "mimetype": "text/x-python",
   "name": "python",
   "nbconvert_exporter": "python",
   "pygments_lexer": "ipython3",
   "version": "3.7.3"
  }
 },
 "nbformat": 4,
 "nbformat_minor": 2
}
