{
 "cells": [
  {
   "cell_type": "code",
   "execution_count": 180,
   "metadata": {},
   "outputs": [],
   "source": [
    "import urllib\n",
    "import json\n",
    "import unicodedata\n",
    "import requests\n",
    "import bs4\n",
    "import os\n",
    "import io\n",
    "import time\n",
    "from IPython.display import clear_output"
   ]
  },
  {
   "cell_type": "code",
   "execution_count": 188,
   "metadata": {},
   "outputs": [],
   "source": [
    "def get_all_pokemon_base_entries():\n",
    "    base_page_url = \"https://bulbapedia.bulbagarden.net/wiki/List_of_Pokémon_by_National_Pokédex_number\"\n",
    "    base_page_content = requests.get(base_page_url).content\n",
    "    root = bs4.BeautifulSoup(base_page_content, \"html5lib\").find(id=\"mw-content-text\")\n",
    "\n",
    "    pokemon_base_entries = {}\n",
    "    generation_table_tags = root.find_all(\"table\")[1:8]\n",
    "\n",
    "    for gen_table_tag in generation_table_tags:\n",
    "        pokemon_tr_tags = gen_table_tag.find(\"tbody\").find_all(\"tr\")[1:]\n",
    "\n",
    "        for tr_tag in pokemon_tr_tags:\n",
    "            pokemon_name, number, wikilink = get_pokemon_name_and_wikilink(tr_tag)\n",
    "            pokemon_base_entries[pokemon_name] = {\"wikilink\": wikilink, \"pokedex_number\": number}\n",
    "\n",
    "    return pokemon_base_entries\n",
    "\n",
    "\n",
    "def get_pokemon_name_and_wikilink(tr_tag):\n",
    "    cols = tr_tag.find_all(\"td\", recursive=False)\n",
    "\n",
    "    number = int(cols[1].string.replace(\" \", \"\")[1:-1])\n",
    "\n",
    "    details_link_tag = cols[3].find_all(\"a\", recursive=False)[0]\n",
    "    details_url = \"https://bulbapedia.bulbagarden.net\" + details_link_tag[\"href\"]\n",
    "\n",
    "    base_name = details_link_tag.string\n",
    "    \n",
    "    return base_name, number, details_url"
   ]
  },
  {
   "cell_type": "code",
   "execution_count": 189,
   "metadata": {},
   "outputs": [],
   "source": [
    "pokemon_list = get_all_pokemon_base_entries()"
   ]
  },
  {
   "cell_type": "code",
   "execution_count": 215,
   "metadata": {},
   "outputs": [],
   "source": [
    "baseurl = \"http://bulbapedia.bulbagarden.net/w/api.php?\"\n",
    "action = \"action=query\"\n",
    "content = \"prop=revisions\"\n",
    "rvprop =\"rvprop=content\"\n",
    "dataformat = \"format=json\"\n",
    "\n",
    "dir_path = \"./pokemon_files_raw\"\n",
    "def create_pokemon_file():\n",
    "    counter = 0\n",
    "    for name, info in pokemon_list.items():\n",
    "\n",
    "        title = \"titles=\" + name + \"_(Pok%C3%A9mon)\"\n",
    "        if not os.path.exists(dir_path):\n",
    "            os.makedirs(dir_path)\n",
    "            print('created', dir_path)\n",
    "\n",
    "        pokedex_number = info[\"pokedex_number\"]\n",
    "        file_path = f\"{dir_path}/[{pokedex_number}]{name}\"\n",
    "        if os.path.isfile(file_path):\n",
    "            continue\n",
    "        query = \"{}{}&{}&{}&{}&{}\".format(baseurl, action, title, content, rvprop, dataformat)\n",
    "        print(query)\n",
    "        pokemon_text = requests.get(query).content.decode(\"utf-8\")\n",
    "        pokemon_text = json.loads(pokemon_text)\n",
    "        pokemon_text = pokemon_text[\"query\"][\"pages\"]\n",
    "        \n",
    "        pokemon_page_number = next(iter(pokemon_text))\n",
    "        pokemon_text = pokemon_text[pokemon_page_number][\"revisions\"][0]\n",
    "\n",
    "        with io.open(file_path, 'w', encoding='utf-8') as f:\n",
    "            f.write(u''+ str(pokemon_text))\n",
    "            f.close()\n",
    "        counter +=1\n",
    "        clear_output(wait=True)\n",
    "        print(f\"{int(pokedex_number)} pokemon files created. done. {len(pokemon_list.keys()) - int(pokedex_number)} left\")\n",
    "        \n"
   ]
  },
  {
   "cell_type": "code",
   "execution_count": 216,
   "metadata": {},
   "outputs": [
    {
     "name": "stdout",
     "output_type": "stream",
     "text": [
      "809 pokemon files created. done. 0 left\n"
     ]
    }
   ],
   "source": [
    "create_pokemon_file()"
   ]
  }
 ],
 "metadata": {
  "kernelspec": {
   "display_name": "Python 3",
   "language": "python",
   "name": "python3"
  },
  "language_info": {
   "codemirror_mode": {
    "name": "ipython",
    "version": 3
   },
   "file_extension": ".py",
   "mimetype": "text/x-python",
   "name": "python",
   "nbconvert_exporter": "python",
   "pygments_lexer": "ipython3",
   "version": "3.7.3"
  }
 },
 "nbformat": 4,
 "nbformat_minor": 2
}
